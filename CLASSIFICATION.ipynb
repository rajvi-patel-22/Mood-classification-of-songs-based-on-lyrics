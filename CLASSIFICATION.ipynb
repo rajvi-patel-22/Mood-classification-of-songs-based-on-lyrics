{
 "cells": [
  {
   "cell_type": "code",
   "execution_count": 28,
   "metadata": {},
   "outputs": [],
   "source": [
    "import pandas as pd\n",
    "import numpy as np"
   ]
  },
  {
   "cell_type": "code",
   "execution_count": 19,
   "metadata": {},
   "outputs": [
    {
     "data": {
      "text/html": [
       "<div>\n",
       "<style scoped>\n",
       "    .dataframe tbody tr th:only-of-type {\n",
       "        vertical-align: middle;\n",
       "    }\n",
       "\n",
       "    .dataframe tbody tr th {\n",
       "        vertical-align: top;\n",
       "    }\n",
       "\n",
       "    .dataframe thead th {\n",
       "        text-align: right;\n",
       "    }\n",
       "</style>\n",
       "<table border=\"1\" class=\"dataframe\">\n",
       "  <thead>\n",
       "    <tr style=\"text-align: right;\">\n",
       "      <th></th>\n",
       "      <th>index</th>\n",
       "      <th>Song_name</th>\n",
       "      <th>type</th>\n",
       "      <th>artist</th>\n",
       "      <th>lyrics</th>\n",
       "    </tr>\n",
       "  </thead>\n",
       "  <tbody>\n",
       "    <tr>\n",
       "      <th>0</th>\n",
       "      <td>1</td>\n",
       "      <td>नीले नीले अम्बर पर</td>\n",
       "      <td>romantic</td>\n",
       "      <td>किशोर कुमार</td>\n",
       "      <td>नीले नीले अम्बर चाँद प्यार बरस तरस नीले नीले अ...</td>\n",
       "    </tr>\n",
       "    <tr>\n",
       "      <th>1</th>\n",
       "      <td>2</td>\n",
       "      <td>अक्कड़ बक्कड़</td>\n",
       "      <td>party</td>\n",
       "      <td>बादशाह</td>\n",
       "      <td>अक्कड़ बक्कड़ बॉम्बे बो पुरे रात बज पौ अक्कड़ ...</td>\n",
       "    </tr>\n",
       "    <tr>\n",
       "      <th>2</th>\n",
       "      <td>3</td>\n",
       "      <td>अखियाँ</td>\n",
       "      <td>sad</td>\n",
       "      <td>पोपोन</td>\n",
       "      <td>थक गेया अँख जग्ग दिय अख माह ना लभद अँखियाँहाये...</td>\n",
       "    </tr>\n",
       "    <tr>\n",
       "      <th>3</th>\n",
       "      <td>4</td>\n",
       "      <td>अंग से अंग लगाना</td>\n",
       "      <td>romantic</td>\n",
       "      <td>अलका याग्निक, बिनोद राठौड़, सुदेश भोसले</td>\n",
       "      <td>आए आए चाहो बाँहो भर अंग अंग लग सजन रंग लग अंग ...</td>\n",
       "    </tr>\n",
       "    <tr>\n",
       "      <th>4</th>\n",
       "      <td>5</td>\n",
       "      <td>अगर ज़िन्दगी हो</td>\n",
       "      <td>romantic</td>\n",
       "      <td>आशा भोसले</td>\n",
       "      <td>ज़िन्दगी संग ज़िन्दगी संग मौत मौत ज़िन्दगी संग...</td>\n",
       "    </tr>\n",
       "  </tbody>\n",
       "</table>\n",
       "</div>"
      ],
      "text/plain": [
       "   index            Song_name      type  \\\n",
       "0      1   नीले नीले अम्बर पर  romantic   \n",
       "1      2        अक्कड़ बक्कड़     party   \n",
       "2      3               अखियाँ       sad   \n",
       "3      4     अंग से अंग लगाना  romantic   \n",
       "4      5      अगर ज़िन्दगी हो  romantic   \n",
       "\n",
       "                                    artist  \\\n",
       "0                              किशोर कुमार   \n",
       "1                                   बादशाह   \n",
       "2                                    पोपोन   \n",
       "3  अलका याग्निक, बिनोद राठौड़, सुदेश भोसले   \n",
       "4                                आशा भोसले   \n",
       "\n",
       "                                              lyrics  \n",
       "0  नीले नीले अम्बर चाँद प्यार बरस तरस नीले नीले अ...  \n",
       "1  अक्कड़ बक्कड़ बॉम्बे बो पुरे रात बज पौ अक्कड़ ...  \n",
       "2  थक गेया अँख जग्ग दिय अख माह ना लभद अँखियाँहाये...  \n",
       "3  आए आए चाहो बाँहो भर अंग अंग लग सजन रंग लग अंग ...  \n",
       "4  ज़िन्दगी संग ज़िन्दगी संग मौत मौत ज़िन्दगी संग...  "
      ]
     },
     "execution_count": 19,
     "metadata": {},
     "output_type": "execute_result"
    }
   ],
   "source": [
    "#loading the dataset\n",
    "df = pd.read_csv(\"songs_without_stopwords.csv\", low_memory=False)   \n",
    "#df = pd.read_csv(\"binary.csv\", low_memory=False) \n",
    "df.head()"
   ]
  },
  {
   "cell_type": "code",
   "execution_count": 20,
   "metadata": {},
   "outputs": [],
   "source": [
    "#define features andtags and split\n",
    "from sklearn.model_selection import train_test_split\n",
    "y = df.type\n",
    "x=df.lyrics\n",
    "X_train, X_test, y_train, y_test = train_test_split(x, y, test_size=0.2) # use random number generator\n"
   ]
  },
  {
   "cell_type": "code",
   "execution_count": 21,
   "metadata": {},
   "outputs": [
    {
     "name": "stdout",
     "output_type": "stream",
     "text": [
      "accuracy 65.40880503144653\n"
     ]
    }
   ],
   "source": [
    "#classify \n",
    "from sklearn.ensemble import RandomForestClassifier\n",
    "from sklearn.model_selection import cross_val_score\n",
    "from sklearn.pipeline import Pipeline\n",
    "from sklearn.feature_extraction.text import CountVectorizer, TfidfVectorizer,TfidfTransformer\n",
    "from sklearn.metrics import accuracy_score, confusion_matrix\n",
    "\n",
    "rf = Pipeline([('vect', CountVectorizer()),\n",
    "                ('tfidf', TfidfTransformer()),\n",
    "                ('clf', RandomForestClassifier(n_estimators=150, max_depth=6, \n",
    "                                               random_state=0,class_weight = \"balanced\")),\n",
    "               ])\n",
    "\n",
    "rf.fit(X_train, y_train)\n",
    "\n",
    "y_pred = rf.predict(X_test)\n",
    "my_tags = [\"sad\", \"romantic\",\"party\"]\n",
    "accuracy=accuracy_score(y_pred, y_test)*100\n",
    "print('accuracy %s' % accuracy)"
   ]
  },
  {
   "cell_type": "code",
   "execution_count": 22,
   "metadata": {},
   "outputs": [
    {
     "data": {
      "image/png": "[encoded data removed]",
      "text/plain": [
       "<Figure size 432x288 with 2 Axes>"
      ]
     },
     "metadata": {
      "needs_background": "light"
     },
     "output_type": "display_data"
    }
   ],
   "source": [
    "#print confusion matrix\n",
    "import seaborn as sns\n",
    "import matplotlib.pyplot as plt     \n",
    "\n",
    "cm = confusion_matrix(y_test, y_pred, my_tags)\n",
    "ax= plt.subplot()\n",
    "sns.heatmap(cm, annot=True, ax = ax); #annot=True to annotate cells\n",
    "\n",
    "# labels, title and ticks\n",
    "ax.set_xlabel('Predicted labels');ax.set_ylabel('True labels'); \n",
    "ax.set_title('Confusion Matrix'); \n",
    "ax.xaxis.set_ticklabels(my_tags); ax.yaxis.set_ticklabels(my_tags);"
   ]
  },
  {
   "cell_type": "code",
   "execution_count": 26,
   "metadata": {},
   "outputs": [
    {
     "name": "stdout",
     "output_type": "stream",
     "text": [
      "Enter song name for which you want to classify  :अगर तुम साथ हो\n",
      "अगर तुम साथ हो is present in songlist at indexes 7\n",
      "0    पल भर ठहर दिल संभल रोका आता ग़म फिसल आँख भरूं ब...\n",
      "dtype: object\n",
      "['sad']\n"
     ]
    }
   ],
   "source": [
    "#CLASSIFICATION OF  SINGLE SONG\n",
    "\n",
    "#song=[]\n",
    "song=input('Enter song name for which you want to classify  :')\n",
    "\n",
    "#series of both songname and lyrics\n",
    "songlist=y = df.Song_name\n",
    "lyric=y = df.lyrics\n",
    "length=len(lyric)\n",
    "\n",
    "#converting both to ndarray\n",
    "sl=songlist.to_numpy()\n",
    "l=lyric.to_numpy()\n",
    "matched_index=0\n",
    "\n",
    "\n",
    "i=0\n",
    "#check for index of song\n",
    "while i < length:\n",
    "    if song == sl[i]:\n",
    "        matched_index=i\n",
    "    i += 1\n",
    "print(f'{song} is present in songlist at indexes {matched_index}')\n",
    "\n",
    "\n",
    "\n",
    "#fetching lyrics of that song\n",
    "lyrics=l[matched_index]\n",
    "#print(lyrics)\n",
    "\n",
    "#creating series from string\n",
    "list = [lyrics]\n",
    "ser = pd.Series(list)\n",
    "print(ser)\n",
    "\n",
    "#predicting mood of that song\n",
    "y_pred = rf.predict(ser)\n",
    "print(y_pred)\n",
    "\n",
    "#मिले हो तुम हमको\n",
    "#फर्स्ट क्लास\n",
    "#महरमा\n",
    "#हमनवा मेरे"
   ]
  },
  {
   "cell_type": "code",
   "execution_count": 27,
   "metadata": {},
   "outputs": [
    {
     "name": "stdout",
     "output_type": "stream",
     "text": [
      "['party']\n"
     ]
    }
   ],
   "source": [
    "lyric_pred='अरे जुम्मे की रात है अरे जुम्मे की रात है अल्लाह बचाए मुझे तेरे वार से जुम्मे की रात है चुम्मे की बात है अल्लाह बचाए मुझे तेरे वार से जाने क्या होना है जाने क्या खोना है तेरी जवानी तो जादू है टोना है जलवों में आंधी है अंधी में तूफ़ान है करदे ना मुझको तबाह सारी की सारी है तू गोलाबारी की मुश्क़िल है ख़ुद को बचाना मार ही ना डाले मेरी जान निकाले उफ़ अल्लाह बचाए मुझे हाय तेरे प्यार से जुम्मे की रात है चुम्मे की बात है अल्लाह बचाए मुझे तेरे वार से  माना तुझ में गज़ब का नशा तुझपे कोई भी होगा फ़िदा लेकिन ना खेल दिल से मेरे मैं तो दिल से भी हूँ सिरफिरा इक मैं बात कहूँ दो पल साथ रहूँ फिर मैं अगले ही पल हूँ हवा किया जो कुछ भी कहीं मुझे कुछ याद नहीं करूँ मैं क्या ये मुझे तू बता  सारी की सारी है तू गोलाबारी की मुश्क़िल है ख़ुद को बचाना मार ही ना डाले मेरी जान निकाले उफ़ अल्लाह बचाए मुझे हाय तेरे प्यार से जुम्मे की रात है चुम्मे की बात है अल्लाह बचाए मुझे तेरे वार से  हे जानू तेरी मैं बेमानियां चाहे करले तू शैतानियाँ ज़िद्द पे अड़ जाउंगी आज मैं अब करुँगी मैं मनमानियां नज़रें तुझपे मेरी ले लूं मैं जान तेरी पीछा ना छोडूं तेरा मैं यहां प्यार में दूंगी सज़ा मुझसे बचके तू दिखा आज तू जाने वाला है कहाँ  सारी की सारी है तू गोलाबारी की मुश्क़िल है ख़ुद को बचाना मार ही ना डाले मेरी जान निकाले उफ़ अल्लाह बचाए मुझे हाय तेरे प्यार से जुम्मे की रात है चुम्मे की बात है अल्लाह बचाए मुझे तेरे वार से'\n",
    "daa=np.array([lyric_pred])\n",
    "ser=pd.Series(daa,index=[0])\n",
    "y_pred = rf.predict(ser)\n",
    "print(y_pred)"
   ]
  },
  {
   "cell_type": "code",
   "execution_count": null,
   "metadata": {},
   "outputs": [],
   "source": []
  }
 ],
 "metadata": {
  "kernelspec": {
   "display_name": "Python 3",
   "language": "python",
   "name": "python3"
  },
  "language_info": {
   "codemirror_mode": {
    "name": "ipython",
    "version": 3
   },
   "file_extension": ".py",
   "mimetype": "text/x-python",
   "name": "python",
   "nbconvert_exporter": "python",
   "pygments_lexer": "ipython3",
   "version": "3.7.3"
  }
 },
 "nbformat": 4,
 "nbformat_minor": 2
}
